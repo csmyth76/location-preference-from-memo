{
 "cells": [
  {
   "cell_type": "code",
   "execution_count": null,
   "metadata": {
    "collapsed": true
   },
   "outputs": [],
   "source": []
  },
  {
   "cell_type": "code",
   "execution_count": 50,
   "metadata": {},
   "outputs": [],
   "source": [
    "import re\n",
    "import spacy\n",
    "import en_core_web_sm\n",
    "nlp = en_core_web_sm.load()\n",
    "\n",
    "class Geo_Entity(object):\n",
    "    \n",
    "    def __init__(self,location, sentence):\n",
    "        self.location = location\n",
    "        self.sentence = sentence\n",
    "        self.preference = None\n",
    "     \n",
    "    def display(self):\n",
    "        print ('location: ' + self.location)\n",
    "        print ('sentence: ' + self.sentence)\n",
    "        print ('preference: ' + str(self.preference))\n",
    "                \n",
    "# Normalize locations for spacy geographic entity tagging \n",
    "def norm_gpe_locations(full_memo): \n",
    "    # order matters (i.e. expand NYC before NY)\n",
    "    gpe_norm_dict = {\n",
    "        'NYC': 'New York City', \n",
    "        'NY' : 'New York',\n",
    "        'LA' : 'Los Angeles',\n",
    "        'SF' : 'San Francisco',\n",
    "        'DC' : \"Washington DC\",\n",
    "        'West Coast' : 'California, Oregon, Washington'\n",
    "    }\n",
    "    city_norm_memo = full_memo\n",
    "    for k,v in gpe_norm_dict.items():\n",
    "        city_norm_memo = city_norm_memo.replace(k,v)      \n",
    "    return (city_norm_memo)\n",
    " \n",
    "# get sentences that mention geogrphic location\n",
    "# returns a list of sentences with geo\n",
    "def get_gpe_entities (sent_token):\n",
    "    gpe_entities = []\n",
    "    for entity in sent_token.ents:\n",
    "        if entity.label_ == 'GPE':\n",
    "            gpe_ent = Geo_Entity(entity.text, sent_token.text)\n",
    "            gpe_entities.append(gpe_ent)\n",
    "    return gpe_entities\n",
    "\n",
    "# translates 'tri-state' term to actual location based\n",
    "# on other location mentioned in the memo\n",
    "def translate_tri_state (norm_memo):\n",
    "    tri_state_dict = {'New York': 'New York Metro Area'}\n",
    "    # search through memo to determine which tri-state\n",
    "    for k,v in tri_state_dict.items():\n",
    "        if k in norm_memo:\n",
    "            break;\n",
    "    return v\n",
    "\n",
    "# checks for 'tri-state' in sentence token and translates\n",
    "# to actual location\n",
    "def get_tri_entity (sent_token, norm_memo):\n",
    "    # tri-state text pattern\n",
    "    tri_pat = re.compile ('tri\\-?state')\n",
    "    tri_entity = None\n",
    "    sent_lower = sent_token.text.lower()\n",
    "    # check for 'tri-state' usage in sentence \n",
    "    if tri_pat.search(sent_lower):\n",
    "        # get name of tri_state\n",
    "        tri_state = translate_tri_state(norm_memo)\n",
    "        # replace tri-state mention with real location\n",
    "        updated_sent = tri_pat.sub(tri_state, sent_lower)\n",
    "        tri_entity = Geo_Entity(tri_state, updated_sent)\n",
    "    return tri_entity\n",
    "\n",
    "# check if a word indicating interest is in sentence \n",
    "def check_interest(sent_text):\n",
    "    interest_words = ('focused', 'based', 'seeking', 'looking')\n",
    "    interest = False\n",
    "    if any([(item in sent_text.lower()) for item in interest_words]):\n",
    "        interest = True\n",
    "    return interest\n",
    "\n",
    "# get a list of the geographic entities that contain words\n",
    "# inidcating interest\n",
    "def get_interest_geo_entities (norm_memo):\n",
    "    nlp = spacy.load('en_core_web_sm')\n",
    "    doc_nlp = nlp(norm_memo)\n",
    "    geo_entities = []\n",
    "    for sent in doc_nlp.sents:\n",
    "        # check for words indicating interest\n",
    "        if check_interest(sent.text):     \n",
    "            sent_nlp = nlp(sent.text)\n",
    "            # get tagged geographic entities \n",
    "            gpe_ents = get_gpe_entities(sent_nlp)\n",
    "            if gpe_ents:\n",
    "                geo_entities.extend(gpe_ents)\n",
    "            # get tri-state entity \n",
    "            tri_ent = get_tri_entity(sent_nlp, city_norm_memo)\n",
    "            if tri_ent != None:\n",
    "                geo_entities.append(tri_ent)\n",
    "    return geo_entities\n",
    "\n",
    "# if 'but' comes after location then it negates the preference\n",
    "def eval_but_negation(geo_entity):\n",
    "    preferred = True\n",
    "    loc_index = geo_entity.sentence.find(geo_entity.location)\n",
    "    but_index = geo_entity.sentence.find('but') \n",
    "    if but_index > loc_index:\n",
    "        preferred = False\n",
    "    return preferred\n",
    "\n",
    "# set the location preference for the collected entities\n",
    "def set_loc_preference (geo_entities):\n",
    "    for index, g_ent in enumerate(geo_entities):\n",
    "        preference = True\n",
    "        if 'but' in g_ent.sentence:\n",
    "            preference = eval_but_negation(g_ent)\n",
    "        geo_entities[index].preference = preference\n",
    "    return\n",
    "            \n",
    "         "
   ]
  },
  {
   "cell_type": "code",
   "execution_count": 51,
   "metadata": {
    "collapsed": true
   },
   "outputs": [],
   "source": [
    "full_memo_a1 = (\"I recently caught up with XXX of XXX Group and he \" \n",
    "                \"indicated they are actively trying to grow their \"\n",
    "                \"portfolio in the US. They have been focused in NYC, \"\n",
    "                \"but with his recent addition to the team, are looking \"\n",
    "                \"in Chicago and on the West Coast. Their main focus \"\n",
    "                \"continues to be high-rise office in CBDs, but are \"\n",
    "                \"also considering urban multi-housing, preferably with \"\n",
    "                \"a value-add component.\"\n",
    "                )"
   ]
  },
  {
   "cell_type": "code",
   "execution_count": 52,
   "metadata": {},
   "outputs": [],
   "source": [
    "full_memo_a2 = (\"I will be based in New York, mainly tasked with sourcing \"\n",
    "                \"equity and debt investments in high-profile real estate \"\n",
    "                \"assets in gateway markets with equity ticket $30M and up. \"\n",
    "                \"My team and I will also look for JV and M&A opportunities \"\n",
    "                \"of established real estate companies and platforms.\"\n",
    "               )"
   ]
  },
  {
   "cell_type": "code",
   "execution_count": 53,
   "metadata": {
    "collapsed": true
   },
   "outputs": [],
   "source": [
    "full_memo_a3 = (\"They intend to add a large subterranean retail complex as well as \"\n",
    "                \"reposition the building after the major tenant moves out in 2 years. \"\n",
    "                \"For the most part they are value-add to opportunistic driven. They \"\n",
    "                \"are focused on the following markets: NYC, Boston, DC, Chicago, SF, \"\n",
    "                \"and LA. They will look at office, MH, and retail. They are solving \"\n",
    "                \"to mid-teen returns and they have no max or min on their investment \"\n",
    "                \"size.\"\n",
    "               )"
   ]
  },
  {
   "cell_type": "code",
   "execution_count": 54,
   "metadata": {
    "collapsed": true
   },
   "outputs": [],
   "source": [
    "full_memo_a4 = (\"They are seeking large office/residential/retail deals in the \"\n",
    "                \"Tri-State region. Looking for low teen return profile and 100% \"\n",
    "                \"ownership (no operating partners). Typically looking for long \"\n",
    "                \"term value and can handle temporary non cash flowing periods \"\n",
    "                \"to help generate value. Currently not using much, if any, \"\n",
    "                \"leverage on their deals. Global portfolio is 70mm SF, US \"\n",
    "                \"portfolio is two NYC assets (room to grow).\"\n",
    "               )"
   ]
  },
  {
   "cell_type": "code",
   "execution_count": 55,
   "metadata": {
    "collapsed": true
   },
   "outputs": [],
   "source": [
    "memos = {'a1':full_memo_a1, \n",
    "         'a2':full_memo_a2, \n",
    "         'a3':full_memo_a3, \n",
    "         'a4':full_memo_a4}"
   ]
  },
  {
   "cell_type": "code",
   "execution_count": 60,
   "metadata": {},
   "outputs": [
    {
     "name": "stdout",
     "output_type": "stream",
     "text": [
      "Memo: a1\n",
      "  New York City....... False\n",
      "  Chicago............. True\n",
      "  California.......... True\n",
      "  Oregon.............. True\n",
      "  Washington.......... True\n",
      "Memo: a2\n",
      "  New York............ True\n",
      "Memo: a3\n",
      "  New York City....... True\n",
      "  Boston.............. True\n",
      "  Washington DC....... True\n",
      "  Chicago............. True\n",
      "  San Francisco....... True\n",
      "  Los Angeles......... True\n",
      "Memo: a4\n",
      "  New York Metro Area. True\n"
     ]
    }
   ],
   "source": [
    "\n",
    "for key, memo in memos.items():\n",
    "    print ('Memo: {}'.format(key))\n",
    "    city_norm_memo = norm_gpe_locations(memo)\n",
    "    geo_entities = get_interest_geo_entities (city_norm_memo)\n",
    "    set_loc_preference(geo_entities)\n",
    "    for geo in geo_entities:\n",
    "        print ('  {:.<20} {}'.format(geo.location, geo.preference))"
   ]
  },
  {
   "cell_type": "code",
   "execution_count": 57,
   "metadata": {},
   "outputs": [
    {
     "name": "stdout",
     "output_type": "stream",
     "text": [
      "location: New York Metro Area\n",
      "sentence: they are seeking large office/residential/retail deals in the New York Metro Area region.\n",
      "preference: True\n"
     ]
    }
   ],
   "source": [
    "city_norm_memo = norm_gpe_locations(full_memo_a4)\n",
    "geo_entities = get_interest_geo_entities (city_norm_memo)\n",
    "set_loc_preference(geo_entities)\n",
    "for geo in geo_entities:\n",
    "    geo.display()"
   ]
  },
  {
   "cell_type": "code",
   "execution_count": null,
   "metadata": {
    "collapsed": true
   },
   "outputs": [],
   "source": []
  }
 ],
 "metadata": {
  "kernelspec": {
   "display_name": "Python 3",
   "language": "python",
   "name": "python3"
  },
  "language_info": {
   "codemirror_mode": {
    "name": "ipython",
    "version": 3
   },
   "file_extension": ".py",
   "mimetype": "text/x-python",
   "name": "python",
   "nbconvert_exporter": "python",
   "pygments_lexer": "ipython3",
   "version": "3.6.3"
  },
  "toc": {
   "base_numbering": 1,
   "nav_menu": {},
   "number_sections": true,
   "sideBar": true,
   "skip_h1_title": false,
   "title_cell": "Table of Contents",
   "title_sidebar": "Contents",
   "toc_cell": false,
   "toc_position": {},
   "toc_section_display": true,
   "toc_window_display": false
  }
 },
 "nbformat": 4,
 "nbformat_minor": 2
}
